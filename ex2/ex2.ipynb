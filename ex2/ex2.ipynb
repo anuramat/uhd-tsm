{
 "cells": [
  {
   "cell_type": "markdown",
   "id": "253b242a",
   "metadata": {},
   "source": [
    "# ex2\n",
    "\n",
    "## imports"
   ]
  },
  {
   "cell_type": "code",
   "execution_count": 1,
   "id": "b3e48365-e521-488f-a8b1-6bc36a4ec736",
   "metadata": {},
   "outputs": [
    {
     "name": "stdout",
     "output_type": "stream",
     "text": [
      "test\n"
     ]
    }
   ],
   "source": [
    "import matplotlib.pyplot as plt\n",
    "import numpy as np\n",
    "import pandas as pd\n",
    "from scipy.signal import detrend\n",
    "import scipy.io\n",
    "import pandas as pd\n",
    "from statsmodels.tsa.api import VAR"
   ]
  },
  {
   "cell_type": "markdown",
   "id": "06da5e39",
   "metadata": {},
   "source": [
    "## task 2: multivariate VAR processes\n",
    "\n",
    "### read"
   ]
  },
  {
   "cell_type": "code",
   "execution_count": null,
   "id": "376f274c",
   "metadata": {},
   "outputs": [],
   "source": [
    "raw = scipy.io.loadmat('ex2/ex2.mat')\n",
    "data = dict()\n",
    "for key, value in raw.items():\n",
    "  if key[0] != '_':\n",
    "    data[key] = value.reshape(-1)\n",
    "df = pd.DataFrame(data)"
   ]
  },
  {
   "cell_type": "markdown",
   "id": "bb3f539e",
   "metadata": {},
   "source": [
    "### model"
   ]
  },
  {
   "cell_type": "code",
   "execution_count": null,
   "id": "3b2c200d",
   "metadata": {},
   "outputs": [],
   "source": [
    "model = VAR(df)\n",
    "results = model.fit(1)\n",
    "\n",
    "A = results.coefs[0]\n",
    "print(A)\n",
    "\n",
    "roots = results.roots\n",
    "print(np.all(np.abs(roots) < 1)) # stationarity (?)"
   ]
  }
 ],
 "metadata": {
  "kernelspec": {
   "display_name": "Python 3 (ipykernel)",
   "language": "python",
   "name": "python3"
  },
  "language_info": {
   "codemirror_mode": {
    "name": "ipython",
    "version": 3
   },
   "file_extension": ".py",
   "mimetype": "text/x-python",
   "name": "python",
   "nbconvert_exporter": "python",
   "pygments_lexer": "ipython3",
   "version": "3.12.7"
  }
 },
 "nbformat": 4,
 "nbformat_minor": 5
}

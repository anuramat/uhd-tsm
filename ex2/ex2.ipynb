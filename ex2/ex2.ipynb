{
 "cells": [
  {
   "cell_type": "markdown",
   "id": "253b242a",
   "metadata": {},
   "source": [
    "# ex2\n",
    "\n",
    "## imports"
   ]
  },
  {
   "cell_type": "code",
   "execution_count": 1,
   "id": "b3e48365-e521-488f-a8b1-6bc36a4ec736",
   "metadata": {},
   "outputs": [
    {
     "name": "stdout",
     "output_type": "stream",
     "text": [
      "test\n"
     ]
    }
   ],
   "source": [
    "import matplotlib.pyplot as plt\n",
    "import numpy as np\n",
    "import pandas as pd\n",
    "from scipy.signal import detrend"
   ]
  },
  {
   "cell_type": "markdown",
   "id": "06da5e39",
   "metadata": {},
   "source": [
    "## task 2: multivariate VAR processes"
   ]
  },
  {
   "cell_type": "code",
   "execution_count": null,
   "id": "383392d6",
   "metadata": {},
   "outputs": [],
   "source": [
    "import scipy.io\n",
    "mat = scipy.io.loadmat('ex2/ex2.mat')\n",
    "dlpfc1 = mat['DLPFC1']\n",
    "dlpfc2 = mat['DLPFC2']\n",
    "parietal1 = mat['Parietal1']\n",
    "parietal2 = mat['Parietal2']"
   ]
  },
  {
   "cell_type": "code",
   "execution_count": null,
   "id": "6f9b8a78",
   "metadata": {},
   "outputs": [],
   "source": []
  }
 ],
 "metadata": {
  "kernelspec": {
   "display_name": "Python 3 (ipykernel)",
   "language": "python",
   "name": "python3"
  },
  "language_info": {
   "codemirror_mode": {
    "name": "ipython",
    "version": 3
   },
   "file_extension": ".py",
   "mimetype": "text/x-python",
   "name": "python",
   "nbconvert_exporter": "python",
   "pygments_lexer": "ipython3",
   "version": "3.12.7"
  }
 },
 "nbformat": 4,
 "nbformat_minor": 5
}

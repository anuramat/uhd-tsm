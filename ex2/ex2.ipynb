{
 "cells": [
  {
   "cell_type": "markdown",
   "id": "253b242a",
   "metadata": {},
   "source": [
    "# ex2\n",
    "\n",
    "## imports"
   ]
  },
  {
   "cell_type": "code",
   "execution_count": 1,
   "id": "b3e48365-e521-488f-a8b1-6bc36a4ec736",
   "metadata": {},
   "outputs": [
    {
     "name": "stdout",
     "output_type": "stream",
     "text": [
      "test\n"
     ]
    }
   ],
   "source": [
    "import matplotlib.pyplot as plt\n",
    "import numpy as np\n",
    "import pandas as pd\n",
    "import scipy.io\n",
    "import pandas as pd\n",
    "from statsmodels.tsa.api import VAR"
   ]
  },
  {
   "cell_type": "markdown",
   "id": "06da5e39",
   "metadata": {},
   "source": [
    "## task 2: multivariate VAR processes\n",
    "\n",
    "### read"
   ]
  },
  {
   "cell_type": "code",
   "execution_count": null,
   "id": "376f274c",
   "metadata": {},
   "outputs": [],
   "source": [
    "raw = scipy.io.loadmat('ex2/ex2.mat')\n",
    "data = dict()\n",
    "for key, value in raw.items():\n",
    "  if key[0] != '_':\n",
    "    data[key] = value.reshape(-1)\n",
    "df = pd.DataFrame(data)"
   ]
  },
  {
   "cell_type": "markdown",
   "id": "c8ac2280",
   "metadata": {},
   "source": [
    "### plot"
   ]
  },
  {
   "cell_type": "code",
   "execution_count": null,
   "id": "59870932",
   "metadata": {},
   "outputs": [],
   "source": [
    "df.plot()\n",
    "plt.show()"
   ]
  },
  {
   "cell_type": "markdown",
   "id": "bb3f539e",
   "metadata": {},
   "source": [
    "### model"
   ]
  },
  {
   "cell_type": "code",
   "execution_count": null,
   "id": "3b2c200d",
   "metadata": {},
   "outputs": [],
   "source": [
    "model = VAR(df)\n",
    "results = model.fit(1)\n",
    "A = results.coefs[0]\n",
    "print(df.columns)\n",
    "print(A)\n",
    "print(A - A.T)"
   ]
  },
  {
   "cell_type": "markdown",
   "id": "b4f0dc72",
   "metadata": {},
   "source": [
    "Coupling between $\\mathrm{DLPFC}_i$ and $\\mathrm{Parietal}_i$ is directed\n",
    "towards DLPFC; For $\\mathrm{DLPFC}_i$ and $\\mathrm{Parietal}_j$ ($i \\neq j$)\n",
    "it's directed towards the parietal cortex.\n",
    "\n",
    "### stationarity"
   ]
  },
  {
   "cell_type": "code",
   "execution_count": null,
   "id": "5be1a1f5",
   "metadata": {},
   "outputs": [],
   "source": [
    "print(results.is_stable()) # built in thing\n",
    "print(np.all(np.abs(np.linalg.eig(A).eigenvalues) < 1))"
   ]
  },
  {
   "cell_type": "markdown",
   "id": "ce5213b1",
   "metadata": {},
   "source": [
    "## task 3: ar poisson processes"
   ]
  },
  {
   "cell_type": "code",
   "execution_count": null,
   "id": "6d409239",
   "metadata": {},
   "outputs": [],
   "source": [
    "T = 1000\n",
    "A1 = np.array([[0.2, -0.1], [0.1, 0.1]])\n",
    "A2 = np.array([[0.1, -0.1], [0.1, 0.1]])\n",
    "mu0 = np.array([0.5, 0.5])\n",
    "a0 = np.array([0.0, 0.0])"
   ]
  }
 ],
 "metadata": {
  "kernelspec": {
   "display_name": "Python 3 (ipykernel)",
   "language": "python",
   "name": "python3"
  },
  "language_info": {
   "codemirror_mode": {
    "name": "ipython",
    "version": 3
   },
   "file_extension": ".py",
   "mimetype": "text/x-python",
   "name": "python",
   "nbconvert_exporter": "python",
   "pygments_lexer": "ipython3",
   "version": "3.12.7"
  }
 },
 "nbformat": 4,
 "nbformat_minor": 5
}

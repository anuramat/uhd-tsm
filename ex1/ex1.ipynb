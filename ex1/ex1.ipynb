{
 "cells": [
  {
   "cell_type": "markdown",
   "id": "253b242a",
   "metadata": {},
   "source": [
    "# ex1\n",
    "\n",
    "## imports"
   ]
  },
  {
   "cell_type": "code",
   "execution_count": 1,
   "id": "b3e48365-e521-488f-a8b1-6bc36a4ec736",
   "metadata": {},
   "outputs": [
    {
     "name": "stdout",
     "output_type": "stream",
     "text": [
      "test\n"
     ]
    }
   ],
   "source": [
    "import matplotlib.pyplot as plt\n",
    "import numpy as np\n",
    "from scipy.fft import fft, fftfreq"
   ]
  },
  {
   "cell_type": "markdown",
   "id": "06da5e39",
   "metadata": {},
   "source": [
    "## task 1. weather\n",
    "\n",
    "### data"
   ]
  },
  {
   "cell_type": "code",
   "execution_count": null,
   "id": "383392d6",
   "metadata": {},
   "outputs": [],
   "source": [
    "# Time,Temperature,Humidity,Pressure\n",
    "data = np.loadtxt('./ex1/dailyweather.csv', skiprows = 1, delimiter=',')\n",
    "time, temp, humidity, pressure = data.T"
   ]
  },
  {
   "cell_type": "markdown",
   "id": "bb3f539e",
   "metadata": {},
   "source": [
    "### plot"
   ]
  },
  {
   "cell_type": "code",
   "execution_count": null,
   "id": "3b2c200d",
   "metadata": {},
   "outputs": [],
   "source": [
    "norm = lambda x: (x - np.mean(x)) / np.std(x)\n",
    "plt.plot(norm(temp), label = 'temperature', alpha = 0.8)\n",
    "plt.plot(norm(humidity), label = 'humidity', alpha = 0.8)\n",
    "plt.plot(norm(pressure), label = 'pressure', alpha = 0.8)\n",
    "plt.legend()\n",
    "plt.show()"
   ]
  },
  {
   "cell_type": "markdown",
   "id": "01c1fdc2",
   "metadata": {},
   "source": [
    "Looks like temperature and humidity have large negative correlation coefficient\n",
    "close to $-1$, as they look like two sines with a $\\pi/2$ shift, meanwhile\n",
    "pressure is visually motsly noise.\n",
    "\n",
    "### correlations"
   ]
  },
  {
   "cell_type": "code",
   "execution_count": null,
   "id": "c4b7da75",
   "metadata": {},
   "outputs": [],
   "source": [
    "print(np.corrcoef([temp, humidity, pressure]))"
   ]
  },
  {
   "cell_type": "markdown",
   "id": "5c7555f3",
   "metadata": {},
   "source": [
    "The calculated correlation coefficient agrees with our prediction.\n",
    "\n",
    "### return maps\n",
    "\n",
    "We expect the return map with 1 year interval to be a $y=x$ line, for the other\n",
    "intervals we should get $y=ax+b\\sin(x)$ and $y=ax-b\\sin(kx)$ with $kx \\in\n",
    "[0,\\pi]$."
   ]
  },
  {
   "cell_type": "code",
   "execution_count": null,
   "id": "64bb22da",
   "metadata": {},
   "outputs": [],
   "source": [
    "def nth_return_map(sequence, n):\n",
    "    x_vals = sequence[:-n]\n",
    "    y_vals = sequence[n:]\n",
    "    plt.scatter(x_vals, y_vals)\n",
    "    plt.title(f'{n}-th return map')\n",
    "    plt.axis('equal')\n",
    "    plt.show()"
   ]
  },
  {
   "cell_type": "markdown",
   "id": "66a94ec8",
   "metadata": {},
   "source": [
    "### trend\n",
    "\n",
    "There is a clear periodicity in the temperature and pressure, which can be\n",
    "examined using spectral analysis.\n"
   ]
  }
 ],
 "metadata": {
  "kernelspec": {
   "display_name": "Python 3 (ipykernel)",
   "language": "python",
   "name": "python3"
  },
  "language_info": {
   "codemirror_mode": {
    "name": "ipython",
    "version": 3
   },
   "file_extension": ".py",
   "mimetype": "text/x-python",
   "name": "python",
   "nbconvert_exporter": "python",
   "pygments_lexer": "ipython3",
   "version": "3.12.7"
  }
 },
 "nbformat": 4,
 "nbformat_minor": 5
}

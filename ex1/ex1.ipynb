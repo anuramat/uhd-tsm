{
 "cells": [
  {
   "cell_type": "markdown",
   "id": "253b242a",
   "metadata": {},
   "source": [
    "# ex1\n",
    "\n",
    "## imports"
   ]
  },
  {
   "cell_type": "code",
   "execution_count": 1,
   "id": "b3e48365-e521-488f-a8b1-6bc36a4ec736",
   "metadata": {},
   "outputs": [
    {
     "name": "stdout",
     "output_type": "stream",
     "text": [
      "test\n"
     ]
    }
   ],
   "source": [
    "import matplotlib.pyplot as plt\n",
    "import numpy as np\n",
    "from scipy.fft import fft, fftfreq\n",
    "from scipy.signal import detrend"
   ]
  },
  {
   "cell_type": "markdown",
   "id": "06da5e39",
   "metadata": {},
   "source": [
    "## task 1. weather\n",
    "\n",
    "### data"
   ]
  },
  {
   "cell_type": "code",
   "execution_count": null,
   "id": "383392d6",
   "metadata": {},
   "outputs": [],
   "source": [
    "# Time,Temperature,Humidity,Pressure\n",
    "data = np.loadtxt('./ex1/dailyweather.csv', skiprows = 1, delimiter=',')\n",
    "time, temp, humidity, pressure = data.T"
   ]
  },
  {
   "cell_type": "markdown",
   "id": "bb3f539e",
   "metadata": {},
   "source": [
    "### plot"
   ]
  },
  {
   "cell_type": "code",
   "execution_count": null,
   "id": "3b2c200d",
   "metadata": {},
   "outputs": [],
   "source": [
    "norm = lambda x: (x - np.mean(x)) / np.std(x)\n",
    "plt.plot(norm(temp), label = 'temperature', alpha = 0.8)\n",
    "plt.plot(norm(humidity), label = 'humidity', alpha = 0.8)\n",
    "plt.plot(norm(pressure), label = 'pressure', alpha = 0.8)\n",
    "plt.legend()\n",
    "plt.show()"
   ]
  },
  {
   "cell_type": "markdown",
   "id": "01c1fdc2",
   "metadata": {},
   "source": [
    "Looks like temperature and humidity have large negative correlation coefficient\n",
    "close to $-1$, as they look like two sines with a $\\pi/2$ shift, meanwhile\n",
    "pressure is visually motsly noise.\n",
    "\n",
    "### correlations"
   ]
  },
  {
   "cell_type": "code",
   "execution_count": null,
   "id": "c4b7da75",
   "metadata": {},
   "outputs": [],
   "source": [
    "print(np.corrcoef([temp, humidity, pressure]))"
   ]
  },
  {
   "cell_type": "markdown",
   "id": "5c7555f3",
   "metadata": {},
   "source": [
    "The calculated correlation coefficient agrees with our prediction.\n",
    "\n",
    "### return maps\n",
    "\n",
    "Assuming $T(t) = \\sin(t)$ we get ellipses with the major axis aligned with the\n",
    "diagonal: $f(x) = \\sin(\\arcsin(x)+dx)$.\n",
    "\n",
    "- 1 year -- $f(x) = x$\n",
    "- 1 day -- $f(x) \\approx x$\n",
    "- 3 months -- a circle"
   ]
  },
  {
   "cell_type": "code",
   "execution_count": null,
   "id": "64bb22da",
   "metadata": {},
   "outputs": [],
   "source": [
    "def nth_return_map(sequence, n):\n",
    "    x_vals = sequence[:-n]\n",
    "    y_vals = sequence[n:]\n",
    "    plt.scatter(x_vals, y_vals)\n",
    "\n",
    "    maxv = np.max(sequence)\n",
    "    minv = np.min(sequence)\n",
    "\n",
    "    center = (maxv + minv)/2\n",
    "    radius = (maxv - minv)/2\n",
    "\n",
    "    t = np.linspace(0,2*np.pi, 100)\n",
    "    dt = (n/365)*(2*np.pi)\n",
    "    x = center + radius * np.sin(t)\n",
    "    y = center + radius * np.sin(t + dt)\n",
    "\n",
    "    plt.plot(x,y, color='red')\n",
    "\n",
    "    plt.title(f'{n}-th return map')\n",
    "    plt.show()"
   ]
  },
  {
   "cell_type": "code",
   "execution_count": null,
   "id": "6be85cfb",
   "metadata": {},
   "outputs": [],
   "source": [
    "nth_return_map(temp, 365)"
   ]
  },
  {
   "cell_type": "code",
   "execution_count": null,
   "id": "faaa3c3f",
   "metadata": {},
   "outputs": [],
   "source": [
    "nth_return_map(temp, 1)"
   ]
  },
  {
   "cell_type": "code",
   "execution_count": null,
   "id": "8e3f95b1",
   "metadata": {},
   "outputs": [],
   "source": [
    "nth_return_map(temp, 30)"
   ]
  },
  {
   "cell_type": "code",
   "execution_count": null,
   "id": "9b996efe",
   "metadata": {},
   "outputs": [],
   "source": [
    "nth_return_map(temp, 90)"
   ]
  },
  {
   "cell_type": "markdown",
   "id": "66a94ec8",
   "metadata": {},
   "source": [
    "### trend\n",
    "\n",
    "There is a clear periodicity in the temperature and pressure, which can be\n",
    "examined using spectral analysis.\n",
    "\n",
    "## task 2. detrending and autocorrelation\n",
    "\n",
    "### data"
   ]
  },
  {
   "cell_type": "code",
   "execution_count": null,
   "id": "09f70381",
   "metadata": {},
   "outputs": [],
   "source": [
    "data = np.loadtxt('./ex1/investment.csv', skiprows = 1, delimiter=',')"
   ]
  },
  {
   "cell_type": "markdown",
   "id": "cbf02822",
   "metadata": {},
   "source": [
    "### plot"
   ]
  },
  {
   "cell_type": "code",
   "execution_count": null,
   "id": "a260e445",
   "metadata": {},
   "outputs": [],
   "source": [
    "plt.plot(data)"
   ]
  },
  {
   "cell_type": "markdown",
   "id": "f49a48d1",
   "metadata": {},
   "source": [
    "### detrending\n",
    "\n",
    "We should use a non-zero bias term, since it essentially represents the\n",
    "accumulated linear growth."
   ]
  },
  {
   "cell_type": "code",
   "execution_count": null,
   "id": "eb2e03db",
   "metadata": {},
   "outputs": [],
   "source": [
    "plt.plot(detrend(data))"
   ]
  }
 ],
 "metadata": {
  "kernelspec": {
   "display_name": "Python 3 (ipykernel)",
   "language": "python",
   "name": "python3"
  },
  "language_info": {
   "codemirror_mode": {
    "name": "ipython",
    "version": 3
   },
   "file_extension": ".py",
   "mimetype": "text/x-python",
   "name": "python",
   "nbconvert_exporter": "python",
   "pygments_lexer": "ipython3",
   "version": "3.12.7"
  }
 },
 "nbformat": 4,
 "nbformat_minor": 5
}

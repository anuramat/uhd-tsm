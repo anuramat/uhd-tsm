{
 "cells": [
  {
   "cell_type": "markdown",
   "id": "253b242a",
   "metadata": {},
   "source": [
    "# ex1\n",
    "\n",
    "## imports"
   ]
  },
  {
   "cell_type": "code",
   "execution_count": 1,
   "id": "b3e48365-e521-488f-a8b1-6bc36a4ec736",
   "metadata": {},
   "outputs": [
    {
     "name": "stdout",
     "output_type": "stream",
     "text": [
      "test\n"
     ]
    }
   ],
   "source": [
    "import matplotlib.pyplot as plt\n",
    "import numpy as np\n",
    "import pandas as pd\n",
    "from scipy.signal import detrend"
   ]
  },
  {
   "cell_type": "markdown",
   "id": "06da5e39",
   "metadata": {},
   "source": [
    "## task 1. weather\n",
    "\n",
    "### data"
   ]
  },
  {
   "cell_type": "code",
   "execution_count": null,
   "id": "383392d6",
   "metadata": {},
   "outputs": [],
   "source": [
    "# Time,Temperature,Humidity,Pressure\n",
    "z = np.loadtxt('./ex3/data/z.csv', delimiter=',')\n",
    "x = np.loadtxt('./ex3/data/x.csv', delimiter=',')\n",
    "A = np.loadtxt('./ex3/data/A.csv', delimiter=',')\n",
    "B = np.loadtxt('./ex3/data/B.csv', delimiter=',')\n",
    "u = np.loadtxt('./ex3/data/u.csv', delimiter=',')\n",
    "Sigma = np.loadtxt('./ex3/data/Sigma.csv', delimiter=',')\n",
    "Gamma = np.loadtxt('./ex3/data/Gamma.csv', delimiter=',')"
   ]
  }
 ],
 "metadata": {
  "kernelspec": {
   "display_name": "Python 3 (ipykernel)",
   "language": "python",
   "name": "python3"
  },
  "language_info": {
   "codemirror_mode": {
    "name": "ipython",
    "version": 3
   },
   "file_extension": ".py",
   "mimetype": "text/x-python",
   "name": "python",
   "nbconvert_exporter": "python",
   "pygments_lexer": "ipython3",
   "version": "3.12.7"
  }
 },
 "nbformat": 4,
 "nbformat_minor": 5
}
